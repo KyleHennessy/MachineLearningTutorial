{
 "cells": [
  {
   "cell_type": "markdown",
   "metadata": {},
   "source": [
    "# Data Pre-Processing and Machine Learning Tutorials\n",
    "## Created by Kyle Hennessy (C00227463)\n",
    "---------\n",
    "This jupyter notebook acts as an introduction to data science, focusing on machine learning, the different types of machine learning algorithms, and the steps needed from start to finish to actually see these algorithms in action. This involves gathering the data, preparing it, pre-processing it, training the model and implementing it in code. There will be various code snippets and resources provided so that you may follow along and see for your self how these are used in person"
   ]
  },
  {
   "cell_type": "markdown",
   "metadata": {},
   "source": [
    "## Algorithms To Be Discussed\n",
    "---------\n",
    "There will be four machine learning algorithms that will be discussed in this tutorial. These are:\n",
    "* Linear Regression\n",
    "* Cart Decision Tree\n",
    "* K-Means\n",
    "* Naive Bayes\n"
   ]
  },
  {
   "cell_type": "markdown",
   "metadata": {},
   "source": [
    "# Linear Regression\n",
    "## Introduction\n",
    "------\n",
    "### What is linear regression\n",
    "Before we can discuss linear regression, we must first discuss what regression itself is. Regression analysis aims to identify the presense a relationship between any given variable. For example, in medicine you can observe a set patients who have gotten sick identify the common features among them. These features can be where they live, where they work, their ethnicity etc. The problem is that each feature of a patient represents one observation.\n",
    "\n",
    "In regression analysis, a certain activity, event or other entity can have a number of observations. Each observation has multiple features and from these features you try to find a relationship among them.\n",
    "\n",
    "There are __dependent features/variables__ and __independent features/variables__\n",
    "\n",
    "Regression is used to determine if and how any given variable is related, but it can also be used to predict an outcome. For example it could be used to predict the performance of a horse in a race depending on the time of day, the weather, and the other horses in a race.\n",
    "\n",
    "__Linear Regression__ is one of the simplest regression techniques but is also one of the most widely used due to its ability to easily interpret predicitons.\n",
    "\n",
    "Simple linear regression can be expressed by the following equation:\n",
    "\n",
    "y = b0 ± b1(X) \n",
    "\n",
    "where y is the dependent variable (output)\n",
    "\n",
    "b0 is the y axis intercept\n",
    "\n",
    "b1 is the slope of the line\n",
    "\n",
    "X is the independent variable (input)\n",
    "\n",
    "### What you will learn\n",
    "After you have completed this tutorial you will learn how to preprocess your data, train your model, understand the importance of overfitting and underfitting, and be able to successfully implement your trained model to predict relationships between variables you defined."
   ]
  },
  {
   "attachments": {
    "LinearRegressionExample.png": {
     "image/png": "[encoded data removed]"
    }
   },
   "cell_type": "markdown",
   "metadata": {},
   "source": [
    "## Learning resources and examples\n",
    "----\n",
    "The purpose of this tutorial is not to educate you on the theory of linear regression itself but rather to show you how it can be implemented for practical use. However, below are some useful learning resources that goes into more detail into the  science and maths behind regression that may assist you:\n",
    "\n",
    "1. [What is linear regression?](https://www.statisticssolutions.com/what-is-linear-regression/)\n",
    "2. [Linear regression Wikipedia page](https://en.wikipedia.org/wiki/Linear_regression)\n",
    "3. [Introduction to Linear Regression Analysis](https://www.youtube.com/watch?v=zPG4NjIkCjc)\n",
    "\n",
    "An example of linear regression could be used to predict grades based on the amount of time spent studying where grades is the dependent variable y and study time is the independent variable x. It is is said that the more time spent studying, the higher grades you will achieve. This is a positive relationship:\n",
    "\n",
    "![LinearRegressionExample.png](attachment:LinearRegressionExample.png)"
   ]
  },
  {
   "cell_type": "markdown",
   "metadata": {},
   "source": [
    "## Implementation of Linear Regression\n",
    "Before we are ready to begin implementing linear regression, there are some packages that need to be installed. these packages are:\n",
    "* NumPy\n",
    "\n",
    "    NumPy is a data science package that allows for various complex and high performance mathmatical operations and routines on arrays. Install using `pip install numpy`\n",
    "    \n",
    "\n",
    "* scikit-learn\n",
    "\n",
    "    scikit-learn is a library built on top of NumPy that is used specifically for machine learning. It allows for data preprocessing, regression, and a huge number of other functions. Install using `pip install scikit-learn`\n",
    "    \n",
    "Once these are installed we can then begin coding.\n",
    "\n",
    "### Step 1: Include the necessary packages\n",
    "In this step, numpy is going to be imported as 'np'. 'LinearRegression' class is going to be imported from the linear models in scikit-learn."
   ]
  },
  {
   "cell_type": "code",
   "execution_count": 10,
   "metadata": {},
   "outputs": [],
   "source": [
    "import numpy as np\n",
    "from sklearn.linear_model import LinearRegression\n",
    "import matplotlib.pyplot as plt"
   ]
  },
  {
   "cell_type": "markdown",
   "metadata": {},
   "source": [
    "### Step 2: Include data to work with for the model\n",
    "The next step is to include data that we are going to work with. For linear regression, this is done simply by providing an array of numbers. This can be done by asking the user for to enter in different values, but for the sake of this tutorial the values will be hard coded. Its interesting to note that the x axis must be a multi-dimensional array as a requirement for regression."
   ]
  },
  {
   "cell_type": "code",
   "execution_count": 23,
   "metadata": {},
   "outputs": [
    {
     "name": "stdout",
     "output_type": "stream",
     "text": [
      "X Axis: [[ 0]\n",
      " [ 2]\n",
      " [ 4]\n",
      " [ 6]\n",
      " [ 8]\n",
      " [10]]\n",
      "Y Axis: [ 1  2  4  6  8 10]\n"
     ]
    }
   ],
   "source": [
    "x_axis = np.array([0, 2, 4, 6, 8, 10]).reshape((-1,1))\n",
    "y_axis = np.array([1, 2, 4, 6, 8, 10])\n",
    "print(\"X Axis:\", x_axis)\n",
    "print(\"Y Axis:\", y_axis)"
   ]
  },
  {
   "cell_type": "markdown",
   "metadata": {},
   "source": [
    "### Step 3: Define the model\n",
    "After the data has been providided to work with, the model can now be defined. To do so, an instance of the LinearRegression class will be instanciated, withe the x and y axis being fitted into it."
   ]
  },
  {
   "cell_type": "code",
   "execution_count": 24,
   "metadata": {},
   "outputs": [],
   "source": [
    "model = LinearRegression().fit(x_axis, y_axis)"
   ]
  },
  {
   "cell_type": "markdown",
   "metadata": {},
   "source": [
    "### Step 4: Train the model and obtain results\n",
    "The model can now be ran so we can obtain the values for b0(y axis intercept) and b1(the slope of the line). The results obtained can be used later to predict the relationships and visualize the data."
   ]
  },
  {
   "cell_type": "code",
   "execution_count": 25,
   "metadata": {},
   "outputs": [
    {
     "name": "stdout",
     "output_type": "stream",
     "text": [
      "b0(y intercept):  0.5238095238095237\n",
      "b1(slope of the line):  [0.92857143]\n"
     ]
    }
   ],
   "source": [
    "b0 = model.intercept_\n",
    "b1 = model.coef_\n",
    "print (\"b0(y intercept): \", b0)\n",
    "print (\"b1(slope of the line): \", b1)"
   ]
  },
  {
   "cell_type": "markdown",
   "metadata": {},
   "source": [
    "### Step 5: Predict responses using trained model\n",
    "Once the model has been trained, it can then be used to predict relationships based on new or existing data provided. From the predicitions printed below, it is clear that when the least time is spent studying you are most likely going to receive a bad grade, but with more time spent studying a higher grade is achieved."
   ]
  },
  {
   "cell_type": "code",
   "execution_count": 26,
   "metadata": {},
   "outputs": [
    {
     "name": "stdout",
     "output_type": "stream",
     "text": [
      "relationship predictions:\n",
      "[[0.52380952]\n",
      " [2.38095238]\n",
      " [4.23809524]\n",
      " [6.0952381 ]\n",
      " [7.95238095]\n",
      " [9.80952381]]\n"
     ]
    }
   ],
   "source": [
    "predicitions = model.intercept_ + model.coef_ * x_axis\n",
    "print (\"relationship predictions:\", predicitions, sep=\"\\n\")"
   ]
  },
  {
   "cell_type": "markdown",
   "metadata": {},
   "source": [
    "### Step 6: Visualizing the data\n",
    "We have the predictions but it is very hard to visualize the data, especially if there was a lot more inputs so the data needs to be represented on a graph. This can be done using the matplotlib package included with python."
   ]
  },
  {
   "cell_type": "code",
   "execution_count": 28,
   "metadata": {},
   "outputs": [
    {
     "data": {
      "image/png": "[encoded data removed]",
      "text/plain": [
       "<Figure size 432x288 with 1 Axes>"
      ]
     },
     "metadata": {
      "needs_background": "light"
     },
     "output_type": "display_data"
    }
   ],
   "source": [
    "plt.scatter(x_axis, y_axis, color=\"blue\")\n",
    "plt.plot(x_axis, model.predict(x_axis), color =\"green\")\n",
    "plt.title(\"Grades versus Study time\")\n",
    "plt.xlabel(\"Study time\")\n",
    "plt.ylabel(\"Grades\")\n",
    "plt.show()"
   ]
  },
  {
   "cell_type": "code",
   "execution_count": null,
   "metadata": {},
   "outputs": [],
   "source": []
  }
 ],
 "metadata": {
  "kernelspec": {
   "display_name": "Python 3",
   "language": "python",
   "name": "python3"
  },
  "language_info": {
   "codemirror_mode": {
    "name": "ipython",
    "version": 3
   },
   "file_extension": ".py",
   "mimetype": "text/x-python",
   "name": "python",
   "nbconvert_exporter": "python",
   "pygments_lexer": "ipython3",
   "version": "3.8.5"
  }
 },
 "nbformat": 4,
 "nbformat_minor": 4
}
